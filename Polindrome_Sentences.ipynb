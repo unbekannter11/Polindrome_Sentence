{
 "cells": [
  {
   "cell_type": "code",
   "execution_count": 34,
   "id": "6edc30f1",
   "metadata": {},
   "outputs": [
    {
     "name": "stdout",
     "output_type": "stream",
     "text": [
      "Enter a sentence with only alphanumeric characters Mr. Owl ate my metal worm\n",
      " 'mr. owl ate my metal worm' is a polidrome sentence.\n"
     ]
    }
   ],
   "source": [
    "input_pal = input(\"Enter a sentence with only alphanumeric characters \").lower()\n",
    "\n",
    "input_pal2 = \"\".join(i for i in input_pal if i.isalnum())\n",
    "\n",
    "if input_pal2 == input_pal2[::-1] :\n",
    "    print(f\" '{input_pal}' is a polidrome sentence.\" )\n",
    "else :\n",
    "    print(f\" '{input_pal}' is not polidrome sentence.\" )"
   ]
  }
 ],
 "metadata": {
  "kernelspec": {
   "display_name": "Python 3 (ipykernel)",
   "language": "python",
   "name": "python3"
  },
  "language_info": {
   "codemirror_mode": {
    "name": "ipython",
    "version": 3
   },
   "file_extension": ".py",
   "mimetype": "text/x-python",
   "name": "python",
   "nbconvert_exporter": "python",
   "pygments_lexer": "ipython3",
   "version": "3.9.13"
  }
 },
 "nbformat": 4,
 "nbformat_minor": 5
}
